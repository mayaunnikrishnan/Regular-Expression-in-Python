{
  "nbformat": 4,
  "nbformat_minor": 0,
  "metadata": {
    "colab": {
      "provenance": [],
      "authorship_tag": "ABX9TyMvC4teBNOlMEdyaUXYCOKW",
      "include_colab_link": true
    },
    "kernelspec": {
      "name": "python3",
      "display_name": "Python 3"
    },
    "language_info": {
      "name": "python"
    }
  },
  "cells": [
    {
      "cell_type": "markdown",
      "metadata": {
        "id": "view-in-github",
        "colab_type": "text"
      },
      "source": [
        "<a href=\"https://colab.research.google.com/github/mayaunnikrishnan/Regular-Expression-in-Python/blob/main/Regular_Expression_in_Python.ipynb\" target=\"_parent\"><img src=\"https://colab.research.google.com/assets/colab-badge.svg\" alt=\"Open In Colab\"/></a>"
      ]
    },
    {
      "cell_type": "markdown",
      "source": [
        "##re.compile(pattern)"
      ],
      "metadata": {
        "id": "eVOouUwylA8K"
      }
    },
    {
      "cell_type": "code",
      "execution_count": 1,
      "metadata": {
        "colab": {
          "base_uri": "https://localhost:8080/"
        },
        "id": "avYa4cAWksU9",
        "outputId": "34951b1d-084e-45ce-9a88-ac383e32707a"
      },
      "outputs": [
        {
          "output_type": "stream",
          "name": "stdout",
          "text": [
            "['10', '20']\n"
          ]
        }
      ],
      "source": [
        "import re\n",
        "\n",
        "pattern = re.compile(r'\\d+')  # Matches one or more digits\n",
        "result = pattern.findall('I have 10 apples and 20 oranges.')\n",
        "print(result)  # Output: ['10', '20']"
      ]
    },
    {
      "cell_type": "markdown",
      "source": [
        "##re.search(pattern, string)"
      ],
      "metadata": {
        "id": "bv6bRMnllV7w"
      }
    },
    {
      "cell_type": "code",
      "source": [
        "import re\n",
        "\n",
        "pattern = r'apple'\n",
        "text = \"I love apples, especially apple pie.\"\n",
        "match = re.search(pattern, text)\n",
        "if match:\n",
        "    print(\"Pattern starts found at index:\", match.start()) # Output: 7\n",
        "    print(\"Pattern ends found at index:\", match.end()) #Output: 12\n",
        "    print(\"The specified string is :\", match.group()) #Output: apple\n",
        "    print(\"Pattern found at index(start,end):\", match.span())  #Output: (7,12)"
      ],
      "metadata": {
        "colab": {
          "base_uri": "https://localhost:8080/"
        },
        "id": "qOPLq3gAlThC",
        "outputId": "954be006-6ea1-484f-f349-2361b4b746b8"
      },
      "execution_count": 4,
      "outputs": [
        {
          "output_type": "stream",
          "name": "stdout",
          "text": [
            "Pattern starts found at index: 7\n",
            "Pattern ends found at index: 12\n",
            "The specified string is : apple\n",
            "Pattern found at index(start,end): (7, 12)\n"
          ]
        }
      ]
    },
    {
      "cell_type": "markdown",
      "source": [
        "##re.match(pattern, string)"
      ],
      "metadata": {
        "id": "lRfBVR-cmFSa"
      }
    },
    {
      "cell_type": "code",
      "source": [
        "import re\n",
        "\n",
        "pattern = r'^I love'\n",
        "text = \"I love apples, especially apple pie.\"\n",
        "match = re.match(pattern, text)\n",
        "if match:\n",
        "    print(\"Pattern starts found at index:\", match.start()) # Output: 0\n",
        "    print(\"Pattern ends found at index:\", match.end()) #Output: 6\n",
        "    print(\"The specified string is :\", match.group()) #Output: I love\n",
        "    print(\"Pattern found at index(start,end):\", match.span())  #Output: (0, 6)\n"
      ],
      "metadata": {
        "colab": {
          "base_uri": "https://localhost:8080/"
        },
        "id": "u9cwFJGpmEuy",
        "outputId": "bb199f4c-7b80-487a-eef7-50e19c8772a2"
      },
      "execution_count": 5,
      "outputs": [
        {
          "output_type": "stream",
          "name": "stdout",
          "text": [
            "Pattern starts found at index: 0\n",
            "Pattern ends found at index: 6\n",
            "The specified string is : I love\n",
            "Pattern found at index(start,end): (0, 6)\n"
          ]
        }
      ]
    },
    {
      "cell_type": "markdown",
      "source": [
        "##re.findall(pattern, string)"
      ],
      "metadata": {
        "id": "BX8oZvS8mdJZ"
      }
    },
    {
      "cell_type": "code",
      "source": [
        "import re\n",
        "\n",
        "pattern = r'\\bapple\\b'\n",
        "text = \"I love apple, especially apple pie.\"\n",
        "result = re.findall(pattern, text)\n",
        "print(result)  # Output: ['apple', 'apple']"
      ],
      "metadata": {
        "colab": {
          "base_uri": "https://localhost:8080/"
        },
        "id": "7dguhd6-mh3p",
        "outputId": "92a77d32-b52c-46ce-9395-a617815f07a6"
      },
      "execution_count": 9,
      "outputs": [
        {
          "output_type": "stream",
          "name": "stdout",
          "text": [
            "['apple', 'apple']\n"
          ]
        }
      ]
    },
    {
      "cell_type": "markdown",
      "source": [
        "##re.finditer(pattern, string)"
      ],
      "metadata": {
        "id": "4_ZDSvTWnJiD"
      }
    },
    {
      "cell_type": "code",
      "source": [
        "import re\n",
        "\n",
        "pattern = r'\\bapple\\b'\n",
        "text = \"I love apple, especially apple pie.\"\n",
        "matches = re.finditer(pattern, text)\n",
        "for match in matches:\n",
        "    print(\"Found '{}' at index {}.\".format(match.group(), match.start()))\n",
        "# Output:\n",
        "# Found 'apple' at index 7.\n",
        "# Found 'apple' at index 29.\n"
      ],
      "metadata": {
        "colab": {
          "base_uri": "https://localhost:8080/"
        },
        "id": "G7QlSs4CnK_s",
        "outputId": "ad2e4420-36ad-448d-9a34-1d073a389e7d"
      },
      "execution_count": 11,
      "outputs": [
        {
          "output_type": "stream",
          "name": "stdout",
          "text": [
            "Found 'apple' at index 7.\n",
            "Found 'apple' at index 25.\n"
          ]
        }
      ]
    },
    {
      "cell_type": "markdown",
      "source": [
        "##re.sub(pattern, replace, string)"
      ],
      "metadata": {
        "id": "9IijA52ZnXjC"
      }
    },
    {
      "cell_type": "code",
      "source": [
        "import re\n",
        "\n",
        "pattern = r'\\bapple\\b'\n",
        "text = \"I love apple, especially apple pie.\"\n",
        "new_text = re.sub(pattern, \"banana\", text)\n",
        "print(new_text)  # Output: I love banana, especially banana pie.\n"
      ],
      "metadata": {
        "colab": {
          "base_uri": "https://localhost:8080/"
        },
        "id": "CwtudTwPndkR",
        "outputId": "97744d67-1cbd-483e-9670-eb6ae4bee3fe"
      },
      "execution_count": 13,
      "outputs": [
        {
          "output_type": "stream",
          "name": "stdout",
          "text": [
            "I love banana, especially banana pie.\n"
          ]
        }
      ]
    },
    {
      "cell_type": "markdown",
      "source": [
        "##re.split(pattern, string)"
      ],
      "metadata": {
        "id": "KFz99BZRnopS"
      }
    },
    {
      "cell_type": "code",
      "source": [
        "import re\n",
        "\n",
        "pattern = r'\\s*,\\s*'\n",
        "text = \"apple, banana, orange\"\n",
        "result = re.split(pattern, text)\n",
        "print(result)  # Output: ['apple', 'banana', 'orange']\n"
      ],
      "metadata": {
        "colab": {
          "base_uri": "https://localhost:8080/"
        },
        "id": "-FDcinAunxSS",
        "outputId": "e518c831-2663-4ba9-9dc8-47130203253e"
      },
      "execution_count": 14,
      "outputs": [
        {
          "output_type": "stream",
          "name": "stdout",
          "text": [
            "['apple', 'banana', 'orange']\n"
          ]
        }
      ]
    },
    {
      "cell_type": "markdown",
      "source": [
        "###For practice:\n",
        "Regular expression exercises :\n",
        "\n",
        "Re.match()\n",
        "1.\tMatching a Specific Word at the Beginning of a String: Write a regex pattern to match strings that start with the word \"Hello\". Test it with re.match().\n",
        "2.\tMatching Digits at the Beginning of a String: Write a regex pattern to match strings that start with one or more digits. Test it with re.match().\n",
        "3.\tMatching Email Addresses: Write a regex pattern to match email addresses. Test it with re.match().\n",
        "4.\tMatching a Specific Pattern in a String: Write a regex pattern to match strings that contain \"apple\". Test it with re.match().\n",
        "5.\tMatching Any Word at the Beginning of a String: Write a regex pattern to match any word at the beginning of a string. Test it with re.match().\n",
        "\n",
        "Re.search()\n",
        "1.\tFinding a Specific Word in a String: Use re.search() to find if the word \"apple\" exists in a given string.\n",
        "2.\tMatching a Pattern Anywhere in a String: Write a regex pattern to match any sequence of digits in a string using re.search().\n",
        "3.\tMatching an Email Address: Use re.search() to find if an email address exists in a given string.\n",
        "4.\tFinding a Word Starting with a Specific Letter: Write a regex pattern to find the first word in a string that starts with the letter \"b\" using re.search().\n",
        "5.\tFinding a Word Containing Specific Characters: Write a regex pattern to find any word in a string that contains the characters \"cat\" using re.search().\n",
        "\n",
        "Re.findall()\n",
        "1.\tExtracting All Digits from a String: Use re.findall() to extract all digits from a given string.\n",
        "2.\tExtracting All Email Addresses from a String: Write a regex pattern to extract all email addresses from a given string using re.findall().\n",
        "3.\tExtracting All Words Starting with a Specific Letter: Use re.findall() to extract all words from a string that start with the letter \"c\".\n",
        "4.\tExtracting All Words Containing a Specific Substring: Write a regex pattern to extract all words from a string that contain the substring \"ing\".\n",
        "5.\tExtracting All URLs from a String: Write a regex pattern to extract all URLs from a given string using re.findall().\n",
        "\n",
        "Re.sub()\n",
        "1.\tReplace Digits with \"X\": Write a program to replace all digits in a string with the letter \"X\" using re.sub().\n",
        "2.\tRemove Punctuation: Write a program to remove all punctuation marks from a string using re.sub().\n",
        "3.\tReplace Email Addresses with \"EMAIL\": Write a program to replace all email addresses in a string with the word \"EMAIL\" using re.sub().\n",
        "4.\tReplace URLs with \"URL\": Write a program to replace all URLs in a string with the word \"URL\" using re.sub().\n",
        "5.\tReplace Specific Words with Another Word: Write a program to replace all occurrences of a specific word in a string with another word using re.sub().\n",
        "\n",
        "Re.compile()\n",
        "1.\tCompile a Regex Pattern for Matching Email Addresses: Write a program to compile a regex pattern for matching email addresses using re.compile(). Then, use the compiled pattern to search for email addresses in a given string.\n",
        "2.\tCompile a Regex Pattern for Matching Dates: Compile a regex pattern for matching dates in the format \"dd-mm-yyyy\" using re.compile(). Use the compiled pattern to search for dates in a given string.\n",
        "3.\tCompile a Regex Pattern for Matching Phone Numbers: Compile a regex pattern for matching phone numbers in a specific format (e.g., \"+XXX-XXXXXXXXXX\") using re.compile(). Use the compiled pattern to search for phone numbers in a given string.\n",
        "4.\tCompile a Regex Pattern for Matching HTML Tags: Compile a regex pattern for matching HTML tags using re.compile(). Use the compiled pattern to search for HTML tags in a given HTML document.\n",
        "5.\tCompile a Regex Pattern for Matching Specific Words: Compile a regex pattern for matching specific words (e.g., \"python\", \"regex\") using re.compile(). Use the compiled pattern to search for occurrences of these words in a given string.\n",
        "\n",
        "Re.finditer()\n",
        "1.\tFind All Occurrences of a Word in a String: Write a program that uses re.finditer() to find all occurrences of a specific word in a given string and print their positions.\n",
        "2.\tFind All Email Addresses in a Text: Create a program that utilizes re.finditer() to locate and print all email addresses within a text.\n",
        "3.\tFind All Dates in a Text: Write a program that employs re.finditer() to identify and print all dates in the format \"dd-mm-yyyy\" within a given text.\n",
        "4.\tFind All Hashtags in a Tweet: Develop a program that uses re.finditer() to discover and print all hashtags within a tweet text.\n",
        "5.\tFind All URLs in a Web Page Source Code: Create a program that employs re.finditer() to extract and print all URLs from the source code of a webpage.\n",
        "\n",
        "Re.split()\n",
        "1.\tSplit a String by Space: Write a program to split a given string into words using re.split() and print the resulting list of words.\n",
        "2.\tSplit a String by Comma: Create a program that splits a string containing comma-separated values into a list of individual values using re.split().\n",
        "3.\tSplit a String by Multiple Delimiters: Write a program to split a string using multiple delimiters (e.g., space, comma, semicolon) using re.split().\n",
        "4.\tSplit a String by Non-Alphanumeric Characters: Develop a program that splits a string into words using re.split() but only keeps alphanumeric characters.\n",
        "5.\tSplit a String by Capturing Group: Write a program that splits a string using a capturing group regex pattern and extracts specific elements from the split parts."
      ],
      "metadata": {
        "id": "7j5ZAAlYoBYS"
      }
    },
    {
      "cell_type": "code",
      "source": [],
      "metadata": {
        "id": "2U6mPnWboFjX"
      },
      "execution_count": null,
      "outputs": []
    }
  ]
}